{
  "cells": [
    {
      "cell_type": "code",
      "execution_count": null,
      "metadata": {
        "id": "2rutOFJy23Uy"
      },
      "outputs": [],
      "source": [
        "#Q 1. Explain the purpose and advantages of NumPy in scientific computing and data analysis. How does it\n",
        "#enhance Python's capabilities for numerical operations?"
      ]
    },
    {
      "cell_type": "code",
      "execution_count": null,
      "metadata": {
        "id": "fkNDNiu54ocp"
      },
      "outputs": [],
      "source": [
        "# NumPy (Numerical Python) is a core library in Python for numerical and scientific computing. It provides efficient, high-performance tools for working with arrays, matrices, and numerical data, making it a cornerstone for scientific computing and data analysis tasks.\n",
        "# Advantages of NumPy\n",
        "\n",
        "#    1. Efficient Array Operations:\n",
        "#         NumPy introduces the ndarray object, which provides fast and memory-efficient storage of homogeneous data.\n",
        "#         Operations on arrays are vectorized, allowing element-wise operations to be performed efficiently without writing explicit loops.\n",
        "\n",
        "#   2.  Mathematical Functionality:\n",
        "#         It includes a wide range of mathematical functions for operations such as linear algebra, Fourier transformations, random number generation, and statistics.\n",
        "#         Supports element-wise operations and aggregate functions (e.g., sum, mean, std).\n",
        "\n",
        "#    3. High Performance:\n",
        "#         NumPy is implemented in C and Fortran, making its operations significantly faster than equivalent pure Python code.\n",
        "#         It optimizes memory usage by leveraging contiguous storage and efficient broadcasting.\n",
        "\n",
        "#   4.  Ease of Integration:\n",
        "#         Compatible with other libraries such as SciPy, Pandas, Matplotlib, and scikit-learn, enhancing its utility in data analysis pipelines.\n",
        "#         Allows seamless integration with code written in C, C++, and Fortran.\n",
        "\n",
        "#   5.  Support for Multidimensional Data:\n",
        "#         Enables the creation and manipulation of multidimensional arrays (e.g., 2D matrices, 3D tensors), making it ideal for data structures in machine learning and scientific computation.\n",
        "\n",
        "#   6.  Broadcasting:\n",
        "#         Provides a powerful mechanism to perform operations on arrays of different shapes and sizes without explicit replication.\n",
        "\n",
        "#   7.  Reproducibility and Debugging:\n",
        "#         With consistent random number generators and stable algorithms, NumPy ensures reproducibility in scientific experiments.\n",
        "\n",
        "# Enhancing Python's Capabilities for Numerical Operations\n",
        "\n",
        "#     1.Improved Speed:\n",
        "#         Python's default lists are not optimized for numerical computations. NumPy offers significant speed-ups by using optimized C-based computations under the hood.\n",
        "\n",
        "#    2. Reduced Code Complexity:\n",
        "#         With vectorized operations, NumPy eliminates the need for manual loops, making the code shorter, cleaner, and easier to understand.\n",
        "\n",
        "#     3.Advanced Indexing and Slicing:\n",
        "#         NumPy provides advanced mechanisms for selecting, modifying, and querying subsets of data, which are more powerful than Python's native list slicing.\n",
        "\n",
        "#    4. Standardization:\n",
        "#         As a foundational library, NumPy offers a consistent API for numerical tasks, ensuring that scientific codebases can rely on a standardized set of tools.\n",
        "\n",
        "#    5. Foundation for Other Libraries:\n",
        "#         Many Python libraries for data analysis, machine learning, and visualization are built on top of NumPy, leveraging its robust computational backend."
      ]
    },
    {
      "cell_type": "code",
      "execution_count": null,
      "metadata": {
        "id": "GZE2utWz5WA4"
      },
      "outputs": [],
      "source": [
        "# Q 2. Compare and contrast np.mean() and np.average() functions in NumPy. When would you use one over the\n",
        "# other?\n"
      ]
    },
    {
      "cell_type": "code",
      "execution_count": null,
      "metadata": {
        "id": "8kqnlbhd525H"
      },
      "outputs": [],
      "source": [
        "# The np.mean() and np.average() functions in NumPy are both used to calculate the average of numerical data. However, they differ in functionality and use cases due to their implementation and flexibility. Here's a detailed comparison:"
      ]
    },
    {
      "cell_type": "code",
      "execution_count": null,
      "metadata": {
        "id": "2uGyqAtL56-L"
      },
      "outputs": [],
      "source": [
        "# 1. Functionality\n",
        "# np.mean()\n",
        "np.average()\n",
        "\n",
        "#     Purpose: Computes the arithmetic mean (average) of the elements in an array.\n",
        "#     Weights: Does not support weighted averages. Each element is treated"
      ]
    },
    {
      "cell_type": "code",
      "execution_count": null,
      "metadata": {
        "id": "JRJNzefD8Ogk"
      },
      "outputs": [],
      "source": [
        "# Purpose: Computes the weighted average of the elements in an array.\n",
        "# Weights: Supports weighted averages through the weights parameter."
      ]
    },
    {
      "cell_type": "code",
      "execution_count": null,
      "metadata": {
        "id": "YWxWm7YP8eW6"
      },
      "outputs": [],
      "source": [
        "# Key Parameters:\n",
        "\n",
        "#     a: Input array.\n",
        "#     axis: The axis along which to compute the mean (default: flatten the array).\n",
        "#     dtype: Data type of the output.\n",
        "#     out: Alternate output array.\n",
        "#     keepdims: Keeps the dimensions of the result consistent with the input."
      ]
    },
    {
      "cell_type": "code",
      "execution_count": null,
      "metadata": {
        "id": "laW0UpgZ9BiH"
      },
      "outputs": [],
      "source": [
        "# Use Cases\n",
        "# When to Use np.mean():\n",
        "\n",
        "#     Use np.mean() for simple arithmetic mean calculations when all elements are equally important."
      ]
    },
    {
      "cell_type": "code",
      "execution_count": null,
      "metadata": {
        "id": "atqnX6rd9Z_-"
      },
      "outputs": [],
      "source": [
        "# When to Use np.average():\n",
        "\n",
        "#     Use np.average() when you need to compute a weighted average, where certain elements have more significance than others."
      ]
    },
    {
      "cell_type": "code",
      "execution_count": null,
      "metadata": {
        "id": "7TDw5oTw9lPy"
      },
      "outputs": [],
      "source": [
        "# Q 3. Describe the methods for reversing a NumPy array along different axes. Provide examples for 1D and 2D\n",
        "# arrays."
      ]
    },
    {
      "cell_type": "code",
      "execution_count": null,
      "metadata": {
        "id": "tcgQmy-j9rbp"
      },
      "outputs": [],
      "source": [
        "#Reversing a NumPy array along different axes is a common operation that can be accomplished using slicing, specialized functions, or methods like np.flip. Below is an explanation of the methods and examples for 1D and 2D arrays."
      ]
    },
    {
      "cell_type": "code",
      "execution_count": null,
      "metadata": {
        "id": "26iBS8nT-HP7"
      },
      "outputs": [],
      "source": [
        "# 1. Using Slicing ([::-1])\n",
        "\n",
        "# Slicing is the simplest way to reverse an array along an axis."
      ]
    },
    {
      "cell_type": "code",
      "execution_count": null,
      "metadata": {
        "colab": {
          "base_uri": "https://localhost:8080/"
        },
        "id": "6R3VMuxJ-HUu",
        "outputId": "e96f90b1-da92-4196-9770-8d396753a619"
      },
      "outputs": [
        {
          "name": "stdout",
          "output_type": "stream",
          "text": [
            "[5 4 3 2 1]\n"
          ]
        }
      ],
      "source": [
        "import numpy as np\n",
        "\n",
        "arr = np.array([1, 2, 3, 4, 5])\n",
        "reversed_arr = arr[::-1]\n",
        "print(reversed_arr)"
      ]
    },
    {
      "cell_type": "code",
      "execution_count": null,
      "metadata": {
        "colab": {
          "base_uri": "https://localhost:8080/"
        },
        "id": "BTMzPJjG-HZB",
        "outputId": "10a97483-1e1b-484f-ae51-c8f463b381d0"
      },
      "outputs": [
        {
          "name": "stdout",
          "output_type": "stream",
          "text": [
            "[[7 8 9]\n",
            " [4 5 6]\n",
            " [1 2 3]]\n"
          ]
        }
      ],
      "source": [
        "arr = np.array([[1, 2, 3], [4, 5, 6], [7, 8, 9]])\n",
        "reversed_rows = arr[::-1, :]\n",
        "print(reversed_rows)\n",
        "\n"
      ]
    },
    {
      "cell_type": "code",
      "execution_count": null,
      "metadata": {
        "id": "xJn4Jedi-HdM"
      },
      "outputs": [],
      "source": [
        "# Using np.flip\n",
        "\n",
        "# np.flip reverses an array along the specified axis"
      ]
    },
    {
      "cell_type": "code",
      "execution_count": null,
      "metadata": {
        "colab": {
          "base_uri": "https://localhost:8080/"
        },
        "id": "9eQPIoHS-HiK",
        "outputId": "fe62242f-ee7f-49f0-b0c9-c774266f4a03"
      },
      "outputs": [
        {
          "name": "stdout",
          "output_type": "stream",
          "text": [
            "[5 4 3 2 1]\n"
          ]
        }
      ],
      "source": [
        "arr = np.array([1, 2, 3, 4, 5])\n",
        "flipped_arr = np.flip(arr)\n",
        "print(flipped_arr)\n"
      ]
    },
    {
      "cell_type": "code",
      "execution_count": null,
      "metadata": {
        "colab": {
          "base_uri": "https://localhost:8080/"
        },
        "id": "JB321exb-Hm9",
        "outputId": "d44708f7-9610-48d4-805a-671dd68c3120"
      },
      "outputs": [
        {
          "name": "stdout",
          "output_type": "stream",
          "text": [
            "[[7 8 9]\n",
            " [4 5 6]\n",
            " [1 2 3]]\n"
          ]
        }
      ],
      "source": [
        "arr = np.array([[1, 2, 3], [4, 5, 6], [7, 8, 9]])\n",
        "flipped_rows = np.flip(arr, axis=0)\n",
        "print(flipped_rows)\n",
        "\n"
      ]
    },
    {
      "cell_type": "code",
      "execution_count": null,
      "metadata": {
        "id": "2D4JAHem-iLE"
      },
      "outputs": [],
      "source": [
        "# 3. Using np.flipud and np.fliplr\n",
        "\n",
        "#     np.flipud: Flips the array upside down (reverses along rows).\n",
        "#     np.fliplr: Flips the array left to right (reverses along columns)."
      ]
    },
    {
      "cell_type": "code",
      "execution_count": null,
      "metadata": {
        "colab": {
          "base_uri": "https://localhost:8080/"
        },
        "id": "iCAfODqI-sxN",
        "outputId": "3290d398-9c94-4f7f-813b-2fd2023391cf"
      },
      "outputs": [
        {
          "name": "stdout",
          "output_type": "stream",
          "text": [
            "[[7 8 9]\n",
            " [4 5 6]\n",
            " [1 2 3]]\n"
          ]
        }
      ],
      "source": [
        "arr = np.array([[1, 2, 3], [4, 5, 6], [7, 8, 9]])\n",
        "\n",
        "# Flip upside down (rows):\n",
        "flipped_ud = np.flipud(arr)\n",
        "print(flipped_ud)\n",
        "\n",
        "\n",
        "\n"
      ]
    },
    {
      "cell_type": "code",
      "execution_count": null,
      "metadata": {
        "colab": {
          "base_uri": "https://localhost:8080/"
        },
        "id": "2UTOxs6B-2pz",
        "outputId": "dc7ba031-5c98-43f4-b70b-15518ed42ed6"
      },
      "outputs": [
        {
          "name": "stdout",
          "output_type": "stream",
          "text": [
            "[[3 2 1]\n",
            " [6 5 4]\n",
            " [9 8 7]]\n"
          ]
        }
      ],
      "source": [
        "# Flip left to right (columns):\n",
        "flipped_lr = np.fliplr(arr)\n",
        "print(flipped_lr)"
      ]
    },
    {
      "cell_type": "code",
      "execution_count": null,
      "metadata": {
        "id": "GqNmxwCj_ACc"
      },
      "outputs": [],
      "source": [
        "# Using np.roll\n",
        "\n",
        "# While not strictly reversing, np.roll can shift the array's elements. Negative rolling can mimic some reverse operations.\n",
        "# 1D Array"
      ]
    },
    {
      "cell_type": "code",
      "execution_count": null,
      "metadata": {
        "colab": {
          "base_uri": "https://localhost:8080/"
        },
        "id": "O3a6XF9H_Fj5",
        "outputId": "0e1ba3c5-c1aa-4e97-fbed-3716824ecce6"
      },
      "outputs": [
        {
          "name": "stdout",
          "output_type": "stream",
          "text": [
            "[4 5 1 2 3]\n"
          ]
        }
      ],
      "source": [
        "arr = np.array([1, 2, 3, 4, 5])\n",
        "rolled_arr = np.roll(arr, -len(arr) // 2)\n",
        "print(rolled_arr)\n"
      ]
    },
    {
      "cell_type": "code",
      "execution_count": null,
      "metadata": {
        "id": "OiPm7z8D_IaN"
      },
      "outputs": [],
      "source": [
        "# Q 4. How can you determine the data type of elements in a NumPy array? Discuss the importance of data types\n",
        "# in memory management and performance\n"
      ]
    },
    {
      "cell_type": "code",
      "execution_count": null,
      "metadata": {
        "id": "tyL82Us2_luy"
      },
      "outputs": [],
      "source": [
        "# Determining the Data Type of Elements in a NumPy Array\n",
        "\n",
        "# You can determine the data type of elements in a NumPy array using the .dtype attribute."
      ]
    },
    {
      "cell_type": "code",
      "execution_count": null,
      "metadata": {
        "id": "Y5rBQAji_oOC"
      },
      "outputs": [],
      "source": [
        "# import numpy as np\n",
        "\n",
        " # Create a NumPy array\n",
        "# arr = np.array([1, 2, 3])\n",
        "\n",
        "# Check the data type\n",
        "# print(arr.dtype)  # Output: int64 (or a platform-dependent integer type)\n",
        "# Importance of Data Types in NumPy\n",
        "\n",
        "#     Efficient Memory Management:\n",
        "#         NumPy arrays store data in a contiguous memory block, and the data type defines how much memory each element occupies.\n",
        "#         For example, int32 takes 4 bytes per element, while int64 takes 8 bytes.\n",
        "#         Using an appropriate data type can significantly reduce memory consumption when working with large datasets."
      ]
    },
    {
      "cell_type": "code",
      "execution_count": null,
      "metadata": {
        "id": "91xo87WB_-nz"
      },
      "outputs": [],
      "source": [
        "# # Memory usage comparison\n",
        "# arr_32 = np.array([1, 2, 3], dtype=np.int32)\n",
        "# arr_64 = np.array([1, 2, 3], dtype=np.int64)\n",
        "\n",
        "# print(arr_32.nbytes)\n",
        "# print(arr_64.nbytes)\n"
      ]
    },
    {
      "cell_type": "code",
      "execution_count": null,
      "metadata": {
        "id": "6txXuAGGADHK"
      },
      "outputs": [],
      "source": [
        "# Performance Optimization:\n",
        "\n",
        "#     Smaller data types can lead to faster computations as less memory needs to be accessed and manipulated.\n",
        "#     For example, using float32 instead of float64 for neural networks is common in machine learning because it balances precision and performance.\n",
        "\n",
        "# Precision and Accuracy:\n",
        "\n",
        "#     Data types like float32 and float64 affect the precision of calculations.\n",
        "#     For high-precision scientific computations, you may need float64 or float128."
      ]
    },
    {
      "cell_type": "code",
      "execution_count": null,
      "metadata": {
        "colab": {
          "base_uri": "https://localhost:8080/"
        },
        "id": "5DdbKx-MAGlP",
        "outputId": "18a1b375-a109-4114-e553-15560005dfc2"
      },
      "outputs": [
        {
          "name": "stdout",
          "output_type": "stream",
          "text": [
            "0.3\n",
            "0.30000000000000004\n"
          ]
        }
      ],
      "source": [
        "a = np.array([0.1, 0.2], dtype=np.float32)\n",
        "b = np.array([0.1, 0.2], dtype=np.float64)\n",
        "\n",
        "print(np.sum(a))\n",
        "print(np.sum(b))"
      ]
    },
    {
      "cell_type": "code",
      "execution_count": null,
      "metadata": {
        "id": "0aggYRdbAKMr"
      },
      "outputs": [],
      "source": [
        "# Type Compatibility:\n",
        "\n",
        "#     NumPy operations automatically adjust to the highest precision data type involved, ensuring consistency during calculations.\n",
        "#     Explicitly setting data types avoids unintended type casting."
      ]
    },
    {
      "cell_type": "code",
      "execution_count": null,
      "metadata": {
        "id": "LgscC4dlAUJk"
      },
      "outputs": [],
      "source": [
        "# Control Over Data:\n",
        "\n",
        "#     Explicit data typing helps ensure that your program handles data as expected, especially when interacting with external systems or performing serialization."
      ]
    },
    {
      "cell_type": "code",
      "execution_count": null,
      "metadata": {
        "id": "RQh5krz6AmCo"
      },
      "outputs": [],
      "source": [
        "# definition of andarray in NumPy\n",
        "\n",
        "# The ndarray (N-dimensional array) is the core data structure in NumPy. It is a multidimensional, homogeneous container for numerical data, designed for efficient computation and manipulation. Unlike Python lists, ndarrays are optimized for numerical operations and large datasets.\n",
        "# Key Features of ndarray\n",
        "\n",
        "#     Homogeneous Data:\n",
        "#         All elements in an ndarray must be of the same data type, ensuring consistency and efficiency in operations.\n",
        "#         The data type is defined by the dtype attribute.\n",
        "\n",
        "#     N-dimensional:\n",
        "#         Supports multidimensional arrays, allowing storage of 1D, 2D, 3D, or higher-dimensional data.\n",
        "#         The shape of the array is accessible via the .shape attribute.\n",
        "\n",
        "#     Efficient Memory Usage:\n",
        "#         Data is stored contiguously in memory, reducing overhead compared to Python lists.\n",
        "#         Allows operations to be performed in place without creating additional copies.\n",
        "\n",
        "#     Optimized for Mathematical Operations:\n",
        "#         Supports element-wise operations, broadcasting, and aggregation functions (e.g., sum, mean, etc.) efficiently.\n",
        "\n",
        "#     Support for Vectorized Operations:\n",
        "#         Eliminates the need for explicit loops, enabling concise and faster code execution.\n",
        "#         Operations on entire arrays are performed in parallel using optimized C libraries.\n",
        "\n",
        "#     Flexible Indexing and Slicing:\n",
        "#         Provides powerful indexing and slicing capabilities for selecting or modifying data.\n",
        "#         Allows Boolean masking and fancy indexing for complex selections.\n",
        "\n",
        "#     Interoperability:\n",
        "#         Easily integrates with other libraries like Pandas, Matplotlib, and scikit-learn.\n",
        "#         Compatible with external C, C++, and Fortran libraries for advanced computations."
      ]
    },
    {
      "cell_type": "code",
      "execution_count": null,
      "metadata": {
        "id": "pdmVvfjvA0vw"
      },
      "outputs": [],
      "source": [
        "# Performance Benefits of NumPy Arrays Over Python Lists for Large-Scale Numerical Operations\n",
        "\n",
        "# NumPy arrays (ndarray) are significantly faster and more memory-efficient than Python lists for numerical operations, particularly at scale. This is due to their optimized implementation and design, which takes advantage of low-level optimizations and specialized libraries.\n",
        "# 1. Vectorized Operations\n",
        "\n",
        "#     Explanation: NumPy allows vectorized operations, enabling operations to be applied to entire arrays without explicit loops. This eliminates the overhead of Python's interpreted loops and leverages underlying C libraries for efficiency.\n",
        "#     Example:"
      ]
    },
    {
      "cell_type": "code",
      "execution_count": null,
      "metadata": {
        "colab": {
          "base_uri": "https://localhost:8080/"
        },
        "id": "Nbt1no_NA3nF",
        "outputId": "f5bb1342-d889-4154-9591-3deb168e295e"
      },
      "outputs": [
        {
          "name": "stdout",
          "output_type": "stream",
          "text": [
            "[2 4 6 8]\n"
          ]
        }
      ],
      "source": [
        "import numpy as np\n",
        "\n",
        "# NumPy array\n",
        "arr = np.array([1, 2, 3, 4])\n",
        "result = arr * 2\n",
        "print(result)\n",
        "\n"
      ]
    },
    {
      "cell_type": "code",
      "execution_count": null,
      "metadata": {
        "colab": {
          "base_uri": "https://localhost:8080/"
        },
        "id": "c0gfVHErA7nc",
        "outputId": "c91a48cb-2e60-488d-ef2b-476099ba527c"
      },
      "outputs": [
        {
          "name": "stdout",
          "output_type": "stream",
          "text": [
            "[2, 4, 6, 8]\n"
          ]
        }
      ],
      "source": [
        "lst = [1, 2, 3, 4]\n",
        "result = [x * 2 for x in lst]\n",
        "print(result)"
      ]
    },
    {
      "cell_type": "code",
      "execution_count": null,
      "metadata": {
        "id": "5WCVSrckBJKi"
      },
      "outputs": [],
      "source": [
        "# Memory Efficiency\n",
        "\n",
        "#     Explanation: NumPy arrays store elements in contiguous memory blocks with a fixed data type. Python lists are heterogeneous, storing pointers to objects, which increases memory overhead.\n",
        "#     Example:"
      ]
    },
    {
      "cell_type": "code",
      "execution_count": null,
      "metadata": {
        "id": "mN2LfSE0BORT"
      },
      "outputs": [],
      "source": [
        "# Faster Computations\n",
        "\n",
        "#     Explanation: NumPy operations are implemented in C and optimized for speed, whereas Python lists rely on slower interpreted loops."
      ]
    },
    {
      "cell_type": "code",
      "execution_count": null,
      "metadata": {
        "id": "wPHFBIJrBdXE"
      },
      "outputs": [],
      "source": [
        "# Built-in Mathematical Functions\n",
        "\n",
        "#     Explanation: NumPy provides a wide range of mathematical functions (e.g., np.sum, np.mean, np.linalg.norm) implemented in optimized C code."
      ]
    },
    {
      "cell_type": "code",
      "execution_count": null,
      "metadata": {
        "id": "Wp3YPwu2Bh8Y"
      },
      "outputs": [],
      "source": [
        "# Broadcasting\n",
        "\n",
        "#     Explanation: NumPy supports broadcasting, which allows operations on arrays of different shapes without creating intermediate arrays, reducing both memory usage and computation time."
      ]
    },
    {
      "cell_type": "code",
      "execution_count": null,
      "metadata": {
        "id": "BrYYpQW3Bkpd"
      },
      "outputs": [],
      "source": [
        "# Multidimensional Data Support\n",
        "\n",
        "#     Explanation: NumPy arrays are designed to handle multidimensional data efficiently, while Python lists require nested structures and loops."
      ]
    },
    {
      "cell_type": "code",
      "execution_count": null,
      "metadata": {
        "id": "ecF4lh2qBql1"
      },
      "outputs": [],
      "source": [
        "#  Interoperability with Other Libraries\n",
        "\n",
        "#     NumPy arrays integrate seamlessly with libraries like Pandas, scikit-learn, TensorFlow, and Matplotlib, which further enhances performance in data analysis and machine learning workflows."
      ]
    },
    {
      "cell_type": "code",
      "execution_count": null,
      "metadata": {
        "id": "kuV4L-LPB6q-"
      },
      "outputs": [],
      "source": [
        "#Q 7. Compare vstack() and hstack() functions in NumPy. Provide examples demonstrating their usage and\n",
        "#output."
      ]
    },
    {
      "cell_type": "code",
      "execution_count": null,
      "metadata": {
        "id": "mhQsMB3wCAqs"
      },
      "outputs": [],
      "source": [
        "# Comparison of vstack() and hstack() in NumPy\n",
        "\n",
        "# The vstack() and hstack() functions in NumPy are used for stacking arrays along different axes:\n",
        "# Feature\tnp.vstack()\tnp.hstack()\n",
        "# Full Name\tVertical stack\tHorizontal stack\n",
        "# Operation\tStacks arrays along the vertical (row) axis.\tStacks arrays along the horizontal (column) axis.\n",
        "# Resulting Shape\tIncreases the number of rows (axis=0).\tIncreases the number of columns (axis=1).\n",
        "# Input Requirements\tArrays must have the same number of columns.\tArrays must have the same number of rows."
      ]
    },
    {
      "cell_type": "code",
      "execution_count": null,
      "metadata": {
        "colab": {
          "background_save": true
        },
        "id": "zrI8zjEaCg7L"
      },
      "outputs": [],
      "source": [
        "# Using np.vstack()"
      ]
    },
    {
      "cell_type": "code",
      "execution_count": null,
      "metadata": {
        "id": "n8b7NiJLCiMj"
      },
      "outputs": [],
      "source": [
        "#Q 8. Explain the differences between fliplr() and flipud() methods in NumPy, including their effects on various\n",
        "# array dimensions"
      ]
    },
    {
      "cell_type": "code",
      "source": [
        "# fliplr() (Flip Left to Right)\n",
        "# Purpose: Reverses the order of elements along the second axis (columns) of a 2D or higher-dimensional array.\n",
        "# Effect: Reflects the array horizontally (left-to-right).\n",
        "# Dimensionality: Requires the array to have at least two dimensions.\n",
        "# Use Case: Useful for flipping images or matrices horizontally.\n"
      ],
      "metadata": {
        "id": "uQ2YEyNDAzjg"
      },
      "execution_count": null,
      "outputs": []
    },
    {
      "cell_type": "code",
      "source": [
        "import numpy as np\n",
        "arr = np.array([[1, 2, 3],\n",
        "                [4, 5, 6],\n",
        "                [7, 8, 9]])\n",
        "flipped = np.fliplr(arr)\n",
        "print(flipped)\n",
        "\n"
      ],
      "metadata": {
        "colab": {
          "base_uri": "https://localhost:8080/"
        },
        "id": "M6MCWjjNA8vs",
        "outputId": "b688d5a1-609c-45c5-b08a-c33c1a556029"
      },
      "execution_count": null,
      "outputs": [
        {
          "output_type": "stream",
          "name": "stdout",
          "text": [
            "[[3 2 1]\n",
            " [6 5 4]\n",
            " [9 8 7]]\n"
          ]
        }
      ]
    },
    {
      "cell_type": "code",
      "source": [
        "# flipped = np.flipud(arr)\n",
        "print(flipped)\n"
      ],
      "metadata": {
        "colab": {
          "base_uri": "https://localhost:8080/"
        },
        "id": "AEn3ftc1A_oD",
        "outputId": "d8ba959e-b42c-422e-d7f6-993ed1e6070b"
      },
      "execution_count": null,
      "outputs": [
        {
          "output_type": "stream",
          "name": "stdout",
          "text": [
            "[[3 2 1]\n",
            " [6 5 4]\n",
            " [9 8 7]]\n"
          ]
        }
      ]
    },
    {
      "cell_type": "code",
      "source": [
        "# Effects on Array Dimensions\n",
        "# 1D Array:\n",
        "\n",
        "# fliplr() raises an error because it requires at least 2 dimensions.\n",
        "# flipud() reverses the order of elements."
      ],
      "metadata": {
        "id": "C8EzdmoYBOUE"
      },
      "execution_count": null,
      "outputs": []
    },
    {
      "cell_type": "code",
      "source": [
        "arr = np.array([1, 2, 3])\n",
        "print(np.flipud(arr))\n",
        "# np.fliplr(arr) -> Raises ValueError\n"
      ],
      "metadata": {
        "colab": {
          "base_uri": "https://localhost:8080/"
        },
        "id": "bEM8pvwhBaCV",
        "outputId": "5d675a6b-97bc-4d57-d053-40b7c44082d1"
      },
      "execution_count": null,
      "outputs": [
        {
          "output_type": "stream",
          "name": "stdout",
          "text": [
            "[3 2 1]\n"
          ]
        }
      ]
    },
    {
      "cell_type": "code",
      "source": [
        "# 2D Array:\n",
        "\n",
        "# fliplr() reverses the columns (horizontal flip).\n",
        "# flipud() reverses the rows (vertical flip).\n",
        "# 3D Array:\n",
        "\n",
        "# fliplr() flips the elements along the last axis (like flipping columns in each 2D slice).\n",
        "# flipud() flips along the first axis (like flipping rows across the depth of the array).\n"
      ],
      "metadata": {
        "id": "CfBpfg8-BaxM"
      },
      "execution_count": null,
      "outputs": []
    },
    {
      "cell_type": "code",
      "source": [
        "#Q.9Discuss the functionality of the array_split() method in NumPy. How does it handle uneven splits?"
      ],
      "metadata": {
        "id": "nVjRPBVIB6sk"
      },
      "execution_count": null,
      "outputs": []
    },
    {
      "cell_type": "code",
      "source": [
        "# The array_split() method in NumPy is used to split an array into multiple sub-arrays. It is similar to the split() method but more flexible, as it can handle uneven splits. Here's a detailed explanation:\n",
        "\n",
        "# Functionality of array_split()\n",
        "# Purpose: Divides an array into sub-arrays along a specified axis."
      ],
      "metadata": {
        "id": "irhawz4DCHa3"
      },
      "execution_count": null,
      "outputs": []
    },
    {
      "cell_type": "code",
      "source": [
        "# numpy.array_split(array, indices_or_sections, axis=0)\n",
        "# array: The input array to be split.\n",
        "# indices_or_sections: Specifies how to split the array.\n",
        "# If an integer n is provided, the array is split into n sub-arrays. If the array cannot be evenly divided, the last sub-arrays may have fewer elements.\n",
        "# If a sequence of indices is provided, it splits the array at those specific indices.\n",
        "# axis: The axis along which to split the array (default is 0)."
      ],
      "metadata": {
        "id": "otaPQrc1CYmQ"
      },
      "execution_count": null,
      "outputs": []
    },
    {
      "cell_type": "code",
      "source": [
        "# Handling Uneven Splits\n",
        "# When the array cannot be evenly divided into the specified number of sections:\n",
        "\n",
        "# array_split() automatically adjusts the sizes of the sub-arrays.\n",
        "# It ensures all elements are included, with sub-arrays having nearly equal sizes.\n",
        "# If the array size isn't a multiple of the number of splits, some sub-arrays will be slightly larger than others (by one element).\n"
      ],
      "metadata": {
        "id": "YfFMVMyXCoj7"
      },
      "execution_count": null,
      "outputs": []
    },
    {
      "cell_type": "code",
      "source": [
        "import numpy as np\n",
        "arr = np.array([1, 2, 3, 4, 5, 6])\n",
        "result = np.array_split(arr, 3)\n",
        "print(result)\n"
      ],
      "metadata": {
        "colab": {
          "base_uri": "https://localhost:8080/"
        },
        "id": "vN-ahxbYCslh",
        "outputId": "7f7f1862-e6b0-4842-fcd9-d6ba95747e85"
      },
      "execution_count": null,
      "outputs": [
        {
          "output_type": "stream",
          "name": "stdout",
          "text": [
            "[array([1, 2]), array([3, 4]), array([5, 6])]\n"
          ]
        }
      ]
    },
    {
      "cell_type": "code",
      "source": [
        "arr = np.array([1, 2, 3, 4, 5])\n",
        "result = np.array_split(arr, 3)\n",
        "print(result)\n"
      ],
      "metadata": {
        "colab": {
          "base_uri": "https://localhost:8080/"
        },
        "id": "AX7Y8-hRCu0O",
        "outputId": "408681da-adc4-4d59-b9ef-bf4a9382c97a"
      },
      "execution_count": null,
      "outputs": [
        {
          "output_type": "stream",
          "name": "stdout",
          "text": [
            "[array([1, 2]), array([3, 4]), array([5])]\n"
          ]
        }
      ]
    },
    {
      "cell_type": "code",
      "source": [
        "arr = np.array([1, 2, 3, 4, 5, 6])\n",
        "result = np.array_split(arr, [2, 4])\n",
        "print(result)\n"
      ],
      "metadata": {
        "colab": {
          "base_uri": "https://localhost:8080/"
        },
        "id": "WDL-TjbxCzGI",
        "outputId": "75307df4-e8c1-4409-c8c7-dd51727865ae"
      },
      "execution_count": null,
      "outputs": [
        {
          "output_type": "stream",
          "name": "stdout",
          "text": [
            "[array([1, 2]), array([3, 4]), array([5, 6])]\n"
          ]
        }
      ]
    },
    {
      "cell_type": "code",
      "source": [
        "arr = np.array([1, 2, 3, 4, 5, 6])\n",
        "result = np.array_split(arr, [2, 4])\n",
        "print(result)\n"
      ],
      "metadata": {
        "colab": {
          "base_uri": "https://localhost:8080/"
        },
        "id": "qKVo9vZzC4TR",
        "outputId": "a74e17dc-08a7-46f0-8857-1c7e268a507d"
      },
      "execution_count": null,
      "outputs": [
        {
          "output_type": "stream",
          "name": "stdout",
          "text": [
            "[array([1, 2]), array([3, 4]), array([5, 6])]\n"
          ]
        }
      ]
    },
    {
      "cell_type": "code",
      "source": [
        "# ey Differences from split()\n",
        "# split() requires the array to be evenly divisible by the number of splits, and it raises a ValueError if not.\n",
        "# array_split() gracefully handles uneven splits, making it more robust in real-world scenarios.\n"
      ],
      "metadata": {
        "id": "ntAYjqqsC8Y5"
      },
      "execution_count": null,
      "outputs": []
    },
    {
      "cell_type": "code",
      "source": [
        "#Q 10. Explain the concepts of vectorization and broadcasting in NumPy. How do they contribute to efficient array\n",
        "# operations?"
      ],
      "metadata": {
        "id": "bp0SY1cjDbS9"
      },
      "execution_count": null,
      "outputs": []
    },
    {
      "cell_type": "code",
      "source": [
        "# 1. Vectorization\n",
        "# Concept:\n",
        "# Vectorization refers to performing operations on entire arrays (or vectors) at once, rather than iterating over individual elements.\n",
        "# Operations are applied element-wise across the array, taking advantage of optimized, low-level implementations.\n",
        "# Benefits:\n",
        "# Speed: Operations are performed in compiled C code, which is much faster than Python loops.\n",
        "# Conciseness: Eliminates the need for explicit loops, making the code shorter and easier to read.\n",
        "# Parallelism: Internally, vectorized operations may utilize parallel processing for further speedu"
      ],
      "metadata": {
        "id": "gw97-6TVDfOH"
      },
      "execution_count": null,
      "outputs": []
    },
    {
      "cell_type": "code",
      "source": [
        "import numpy as np\n",
        "arr = np.array([1, 2, 3, 4])\n",
        "squared = [x**2 for x in arr]\n",
        "print(squared)\n",
        "\n"
      ],
      "metadata": {
        "colab": {
          "base_uri": "https://localhost:8080/"
        },
        "id": "iI020FrIDqiX",
        "outputId": "6cbb295c-d892-441d-ed48-24b61d4d0389"
      },
      "execution_count": null,
      "outputs": [
        {
          "output_type": "stream",
          "name": "stdout",
          "text": [
            "[1, 4, 9, 16]\n"
          ]
        }
      ]
    },
    {
      "cell_type": "code",
      "source": [
        "squared = arr**2\n",
        "print(squared)\n",
        "\n"
      ],
      "metadata": {
        "colab": {
          "base_uri": "https://localhost:8080/"
        },
        "id": "yXu5jtsKDs7Z",
        "outputId": "939e66ae-f77b-40d7-b2d7-7e2d2935b291"
      },
      "execution_count": null,
      "outputs": [
        {
          "output_type": "stream",
          "name": "stdout",
          "text": [
            "[ 1  4  9 16]\n"
          ]
        }
      ]
    },
    {
      "cell_type": "code",
      "source": [
        "# Broadcasting\n",
        "# Concept:\n",
        "# Broadcasting allows NumPy to perform operations on arrays of different shapes by \"stretching\" the smaller array along dimensions where sizes differ.\n",
        "# Instead of replicating data explicitly (which is memory-inefficient), NumPy optimizes the operation by virtually expanding the smaller array.\n",
        "# Rules for Broadcasting:\n",
        "# If the dimensions of the arrays differ, prepend ones to the smaller array's shape until they match in length.\n",
        "# Arrays are compatible if, for each dimension:\n",
        "# Their sizes are the same, or\n",
        "# One of them is 1.\n",
        "# If compatible, NumPy broadcasts the smaller array along the mismatched dimensions to match the shape of the larger array.\n",
        "# Example:\n",
        "# Broadcasting a scalar:\n",
        "\n",
        "arr = np.array([1, 2, 3, 4])\n",
        "result = arr + 5\n",
        "print(result)\n",
        "\n"
      ],
      "metadata": {
        "colab": {
          "base_uri": "https://localhost:8080/"
        },
        "id": "uJMbZ17jDx-R",
        "outputId": "7298e3bc-0b8e-4d34-9d57-a63f3b61e306"
      },
      "execution_count": null,
      "outputs": [
        {
          "output_type": "stream",
          "name": "stdout",
          "text": [
            "[6 7 8 9]\n"
          ]
        }
      ]
    },
    {
      "cell_type": "code",
      "source": [
        "arr1 = np.array([[1, 2, 3], [4, 5, 6]])\n",
        "arr2 = np.array([10, 20, 30])\n",
        "result = arr1 + arr2\n",
        "print(result)\n",
        "\n"
      ],
      "metadata": {
        "colab": {
          "base_uri": "https://localhost:8080/"
        },
        "id": "JPkS2QBvEIZ9",
        "outputId": "1ae7bfab-c452-429b-bc2e-bcc3067983fe"
      },
      "execution_count": null,
      "outputs": [
        {
          "output_type": "stream",
          "name": "stdout",
          "text": [
            "[[11 22 33]\n",
            " [14 25 36]]\n"
          ]
        }
      ]
    },
    {
      "cell_type": "code",
      "source": [
        "# Performance Comparison\n",
        "# Example: Adding two arrays element-wise."
      ],
      "metadata": {
        "id": "zmQsl6h1EU3I"
      },
      "execution_count": null,
      "outputs": []
    },
    {
      "cell_type": "code",
      "source": [
        "\n",
        "arr1 = np.array([1, 2, 3, 4])\n",
        "arr2 = np.array([5, 6, 7, 8])\n",
        "result = np.zeros_like(arr1)\n",
        "for i in range(len(arr1)):\n",
        "    result[i] = arr1[i] + arr2[i]\n",
        "\n",
        "result = arr1 + arr2\n"
      ],
      "metadata": {
        "id": "spVJ5575EpXR"
      },
      "execution_count": null,
      "outputs": []
    },
    {
      "cell_type": "code",
      "source": [
        "\n",
        "#PRACTICAL QUESTION"
      ],
      "metadata": {
        "id": "oSlRwK4JEuuO"
      },
      "execution_count": null,
      "outputs": []
    },
    {
      "cell_type": "code",
      "source": [
        "# Q 1. Create a 3x3 NumPy array with random integers between 1 and 100. Then, interchange its rows and columns."
      ],
      "metadata": {
        "id": "GDGjoqULFtlb"
      },
      "execution_count": null,
      "outputs": []
    },
    {
      "cell_type": "code",
      "source": [
        "# To create a 3x3 NumPy array with random integers between 1 and 100, and then interchange its rows and columns (also known as transposing the matrix), you can use the following Python code:"
      ],
      "metadata": {
        "id": "Y95dn6UBdLNi"
      },
      "execution_count": 1,
      "outputs": []
    },
    {
      "cell_type": "code",
      "source": [
        "import numpy as np\n",
        "\n",
        "array = np.random.randint(1, 101, size=(3, 3))\n",
        "\n",
        "print(\"Original array:\")\n",
        "print(array)\n",
        "\n",
        "transposed_array = array.T\n",
        "\n",
        "print(\"\\nTransposed array:\")\n",
        "print(transposed_array)\n"
      ],
      "metadata": {
        "colab": {
          "base_uri": "https://localhost:8080/"
        },
        "id": "hXULKyH_ARFq",
        "outputId": "c43500e3-d8e6-49a3-8ec9-b31a8858e08b"
      },
      "execution_count": 2,
      "outputs": [
        {
          "output_type": "stream",
          "name": "stdout",
          "text": [
            "Original array:\n",
            "[[ 2 20 65]\n",
            " [71  8 28]\n",
            " [81 35 39]]\n",
            "\n",
            "Transposed array:\n",
            "[[ 2 71 81]\n",
            " [20  8 35]\n",
            " [65 28 39]]\n"
          ]
        }
      ]
    },
    {
      "cell_type": "code",
      "source": [
        "#Q .2 Generate a 1D NumPy array with 10 elements. Reshape it into a 2x5 array, then into a 5x2 array.\n",
        "\n"
      ],
      "metadata": {
        "id": "jiIrMJdCAlXB"
      },
      "execution_count": 3,
      "outputs": []
    },
    {
      "cell_type": "code",
      "source": [
        "# To generate a 1D NumPy array with 10 elements and reshape it into a 2x5 array, and then into a 5x2 array, you can use the following Python code:\n",
        "\n",
        "import numpy as np\n",
        "\n",
        "array = np.arange(10)\n",
        "\n",
        "print(\"Original 1D array:\")\n",
        "print(array)\n",
        "\n",
        "array_2x5 = array.reshape(2, 5)\n",
        "\n",
        "print(\"\\nReshaped into 2x5 array:\")\n",
        "print(array_2x5)\n",
        "\n",
        "array_5x2 = array.reshape(5, 2)\n",
        "\n",
        "print(\"\\nReshaped into 5x2 array:\")\n",
        "print(array_5x2)\n",
        "\n"
      ],
      "metadata": {
        "colab": {
          "base_uri": "https://localhost:8080/"
        },
        "id": "pw-GMJ50BDa7",
        "outputId": "5e3db059-1145-4088-ccb8-5ed49025e10b"
      },
      "execution_count": 38,
      "outputs": [
        {
          "output_type": "stream",
          "name": "stdout",
          "text": [
            "Original 1D array:\n",
            "[0 1 2 3 4 5 6 7 8 9]\n",
            "\n",
            "Reshaped into 2x5 array:\n",
            "[[0 1 2 3 4]\n",
            " [5 6 7 8 9]]\n",
            "\n",
            "Reshaped into 5x2 array:\n",
            "[[0 1]\n",
            " [2 3]\n",
            " [4 5]\n",
            " [6 7]\n",
            " [8 9]]\n"
          ]
        }
      ]
    },
    {
      "cell_type": "code",
      "source": [
        "#Q.3Create a 4x4 NumPy array with random float values. Add a border of zeros around it, resulting in a 6x6 array.\n",
        "\n"
      ],
      "metadata": {
        "id": "MQyLbQavBI1l"
      },
      "execution_count": 5,
      "outputs": []
    },
    {
      "cell_type": "code",
      "source": [
        "#To create a 4x4 NumPy array with random float values and then add a border of zeros around it to make it a 6x6 array, you can use the following Python code:"
      ],
      "metadata": {
        "id": "iUlYjh--BwQv"
      },
      "execution_count": 10,
      "outputs": []
    },
    {
      "cell_type": "code",
      "source": [
        "import numpy as np\n",
        "array = np.random.random((4, 4))\n",
        "print(\"Original 4x4 array:\")\n",
        "print(array)\n",
        "\n",
        "array_with_border = np.pad(array, pad_width=1, mode='constant', constant_values=0)\n",
        "\n",
        "print(\"\\n6x6 array with border of zeros:\")\n",
        "print(array_with_border)\n"
      ],
      "metadata": {
        "colab": {
          "base_uri": "https://localhost:8080/"
        },
        "id": "MTrDMNG3C0oy",
        "outputId": "91b5b537-ba75-46bf-a2a9-20f916aae718"
      },
      "execution_count": 39,
      "outputs": [
        {
          "output_type": "stream",
          "name": "stdout",
          "text": [
            "Original 4x4 array:\n",
            "[[0.35892508 0.12445967 0.58758653 0.82379085]\n",
            " [0.74271619 0.16850539 0.53378523 0.78765915]\n",
            " [0.3089255  0.78162517 0.70275337 0.25919209]\n",
            " [0.29848763 0.77014726 0.21047747 0.1990716 ]]\n",
            "\n",
            "6x6 array with border of zeros:\n",
            "[[0.         0.         0.         0.         0.         0.        ]\n",
            " [0.         0.35892508 0.12445967 0.58758653 0.82379085 0.        ]\n",
            " [0.         0.74271619 0.16850539 0.53378523 0.78765915 0.        ]\n",
            " [0.         0.3089255  0.78162517 0.70275337 0.25919209 0.        ]\n",
            " [0.         0.29848763 0.77014726 0.21047747 0.1990716  0.        ]\n",
            " [0.         0.         0.         0.         0.         0.        ]]\n"
          ]
        }
      ]
    },
    {
      "cell_type": "code",
      "source": [
        "#Q 4. Using NumPy, create an array of integers from 10 to 60 with a step of 5.\n",
        "\n"
      ],
      "metadata": {
        "id": "vYAAxS4_C3cX"
      },
      "execution_count": 12,
      "outputs": []
    },
    {
      "cell_type": "code",
      "source": [
        "#To create a NumPy array of integers from 10 to 60 with a step of 5, you can use np.arange(). Here's the Python code:"
      ],
      "metadata": {
        "id": "O-ceZDadDHUz"
      },
      "execution_count": 13,
      "outputs": []
    },
    {
      "cell_type": "code",
      "source": [
        "import numpy as np\n",
        "\n",
        "array = np.arange(10, 61, 5)\n",
        "\n",
        "print(array)\n"
      ],
      "metadata": {
        "colab": {
          "base_uri": "https://localhost:8080/"
        },
        "id": "4084hqSDDKuM",
        "outputId": "94c90561-4b7d-4ea9-e4cc-aec567538747"
      },
      "execution_count": 14,
      "outputs": [
        {
          "output_type": "stream",
          "name": "stdout",
          "text": [
            "[10 15 20 25 30 35 40 45 50 55 60]\n"
          ]
        }
      ]
    },
    {
      "cell_type": "code",
      "source": [
        "#Q 5. Create a NumPy array of strings ['python', 'numpy', 'pandas']. Apply different case transformations\n",
        "#(uppercase, lowercase, title case, etc.) to each element.\n",
        "\n",
        "#To create a NumPy array of integers from 10 to 60 with a step of 5, you can use np.arange(). Here's the Python code:\n",
        "\n",
        "import numpy as np\n",
        "\n",
        "array = np.arange(10, 61, 5)\n",
        "\n",
        "print(array)\n",
        "\n"
      ],
      "metadata": {
        "colab": {
          "base_uri": "https://localhost:8080/"
        },
        "id": "FKwZxyHxDN-k",
        "outputId": "bb775fd7-5e49-402c-9f7f-4af72b1ca7e0"
      },
      "execution_count": 40,
      "outputs": [
        {
          "output_type": "stream",
          "name": "stdout",
          "text": [
            "[10 15 20 25 30 35 40 45 50 55 60]\n"
          ]
        }
      ]
    },
    {
      "cell_type": "code",
      "source": [
        "#To generate a NumPy array of words and insert a space between each character of every word, you can use the np.char.add function to concatenate spaces between the characters. Here's the Python code to achieve this:"
      ],
      "metadata": {
        "id": "Tfs4jfcJDcBr"
      },
      "execution_count": 21,
      "outputs": []
    },
    {
      "cell_type": "code",
      "source": [
        "import numpy as np\n",
        "\n",
        "words = np.array(['python', 'numpy', 'pandas'])\n",
        "spaced_words = np.char.add(' ', np.char.join(' ', words))\n",
        "\n",
        "print(\"Original words array:\")\n",
        "print(words)\n",
        "\n",
        "print(\"\\nWords with spaces between characters:\")\n",
        "print(spaced_words)\n"
      ],
      "metadata": {
        "colab": {
          "base_uri": "https://localhost:8080/"
        },
        "id": "628A4AZhEG4b",
        "outputId": "3a8ae552-c78f-44ab-b25a-8f7df3404d02"
      },
      "execution_count": 19,
      "outputs": [
        {
          "output_type": "stream",
          "name": "stdout",
          "text": [
            "Original words array:\n",
            "['python' 'numpy' 'pandas']\n",
            "\n",
            "Words with spaces between characters:\n",
            "[' p y t h o n' ' n u m p y' ' p a n d a s']\n"
          ]
        }
      ]
    },
    {
      "cell_type": "code",
      "source": [
        "#Q.6 Generate a NumPy array of words. Insert a space between each character of every word in the array."
      ],
      "metadata": {
        "id": "walHZ9fOLZTb"
      },
      "execution_count": 25,
      "outputs": []
    },
    {
      "cell_type": "code",
      "source": [
        "#You can achieve this by creating a NumPy array of words, then inserting a space between each character in every word. Here's how you can do it using Python with the NumPy library:"
      ],
      "metadata": {
        "id": "yE1GJZEDLmBi"
      },
      "execution_count": 26,
      "outputs": []
    },
    {
      "cell_type": "code",
      "source": [
        "import numpy as np\n",
        "\n",
        "words = np.array(['hello', 'world', 'numpy', 'array'])\n",
        "def space_characters(word):\n",
        "    return ' '.join(word)\n",
        "spaced_words = np.vectorize(space_characters)(words)\n",
        "print(spaced_words)"
      ],
      "metadata": {
        "colab": {
          "base_uri": "https://localhost:8080/"
        },
        "id": "EehStYt_LseZ",
        "outputId": "2155b88f-d036-4f5a-915a-3a08ceaf8d7a"
      },
      "execution_count": 42,
      "outputs": [
        {
          "output_type": "stream",
          "name": "stdout",
          "text": [
            "['h e l l o' 'w o r l d' 'n u m p y' 'a r r a y']\n"
          ]
        }
      ]
    },
    {
      "cell_type": "code",
      "source": [
        "#Q 7. Create two 2D NumPy arrays and perform element-wise addition, subtraction, multiplication, and division\n",
        "\n",
        "#You can create two 2D NumPy arrays and perform various element-wise operations like addition, subtraction, multiplication, and division using NumPy. Here's an example:\n",
        "\n",
        "import numpy as np\n",
        "array1 = np.array([[1, 2, 3],\n",
        "                   [4, 5, 6]])\n",
        "array2 = np.array([[7, 8, 9],\n",
        "                   [10, 11, 12]])\n",
        "addition = array1 + array2\n",
        "print(\"Element-wise Addition:\\n\", addition)\n",
        "subtraction = array1 - array2\n",
        "print(\"\\nElement-wise Subtraction:\\n\", subtraction)\n",
        "multiplication = array1 * array2\n",
        "print(\"\\nElement-wise Multiplication:\\n\", multiplication)\n",
        "division = array1 / array2\n",
        "print(\"\\nElement-wise Division:\\n\", division)\n"
      ],
      "metadata": {
        "colab": {
          "base_uri": "https://localhost:8080/"
        },
        "id": "AkhnoFiOLxQz",
        "outputId": "c428214d-875e-4575-a23a-32f492382525"
      },
      "execution_count": 43,
      "outputs": [
        {
          "output_type": "stream",
          "name": "stdout",
          "text": [
            "Element-wise Addition:\n",
            " [[ 8 10 12]\n",
            " [14 16 18]]\n",
            "\n",
            "Element-wise Subtraction:\n",
            " [[-6 -6 -6]\n",
            " [-6 -6 -6]]\n",
            "\n",
            "Element-wise Multiplication:\n",
            " [[ 7 16 27]\n",
            " [40 55 72]]\n",
            "\n",
            "Element-wise Division:\n",
            " [[0.14285714 0.25       0.33333333]\n",
            " [0.4        0.45454545 0.5       ]]\n"
          ]
        }
      ]
    },
    {
      "cell_type": "code",
      "source": [
        "#Q 8. Use NumPy to create a 5x5 identity matrix, then extract its diagonal elements.\n",
        "\n"
      ],
      "metadata": {
        "id": "menqNFFhMK7X"
      },
      "execution_count": 29,
      "outputs": []
    },
    {
      "cell_type": "code",
      "source": [
        "#You can create a 5x5 identity matrix using NumPy's np.eye() function and then extract its diagonal elements using the np.diagonal() method. Here’s how you can do it:\n",
        "\n",
        "import numpy as np\n",
        "identity_matrix = np.eye(5)\n",
        "print(\"5x5 Identity Matrix:\\n\", identity_matrix)\n",
        "diagonal_elements = np.diagonal(identity_matrix)\n",
        "print(\"\\nDiagonal Elements:\\n\", diagonal_elements)\n"
      ],
      "metadata": {
        "colab": {
          "base_uri": "https://localhost:8080/"
        },
        "id": "00s60syyMjc8",
        "outputId": "006da7fe-dae9-4993-bb2f-0f35d29f6e43"
      },
      "execution_count": 44,
      "outputs": [
        {
          "output_type": "stream",
          "name": "stdout",
          "text": [
            "5x5 Identity Matrix:\n",
            " [[1. 0. 0. 0. 0.]\n",
            " [0. 1. 0. 0. 0.]\n",
            " [0. 0. 1. 0. 0.]\n",
            " [0. 0. 0. 1. 0.]\n",
            " [0. 0. 0. 0. 1.]]\n",
            "\n",
            "Diagonal Elements:\n",
            " [1. 1. 1. 1. 1.]\n"
          ]
        }
      ]
    },
    {
      "cell_type": "code",
      "source": [
        "#Q 9. Generate a NumPy array of 100 random integers between 0 and 1000. Find and display all prime numbers in\n",
        "#this array.\n",
        "\n",
        "#To generate a NumPy array of 100 random integers between 0 and 1000 and then find and display all prime numbers from that array, you can follow the steps below. First, we will generate the array and then define a function to check for prime numbers."
      ],
      "metadata": {
        "id": "hDiAaHrgMqm9"
      },
      "execution_count": 31,
      "outputs": []
    },
    {
      "cell_type": "code",
      "source": [
        "import numpy as np\n",
        "random_integers = np.random.randint(0, 1001, size=100)\n",
        "print(\"Random Integers:\\n\", random_integers)\n",
        "def is_prime(n):\n",
        "    if n <= 1:\n",
        "        return False\n",
        "    for i in range(2, int(n*0.5) + 1):\n",
        "        if n % i == 0:\n",
        "            return False\n",
        "    return True\n",
        "\n",
        "prime_numbers = [num for num in random_integers if is_prime(num)]\n",
        "print(\"\\nPrime Numbers in the Array:\\n\", prime_numbers)"
      ],
      "metadata": {
        "colab": {
          "base_uri": "https://localhost:8080/"
        },
        "id": "DqU2Wcl7Ou1U",
        "outputId": "98692fdd-543a-4200-e5f1-ad7050a8b217"
      },
      "execution_count": 56,
      "outputs": [
        {
          "output_type": "stream",
          "name": "stdout",
          "text": [
            "Random Integers:\n",
            " [429  66 257 890 843 349 625 193 906 487 358 249 663  82 359 480 975 467\n",
            " 846 970 655 579 154 309 756 282 439  96 645 176 838 911 722 998 640 675\n",
            " 286 127 381 525 456 239 691   7 253  82  27  56 906 932 331 734 494 127\n",
            " 795 484 250 316  82 521 735 194 221 737 881 919 742 792 614 221 597 331\n",
            " 908 891 471 348 176 269 725 463  42 804 307 242 301 661 955 202 489 625\n",
            "  44 471 465 405 846 598   0 496 370 351]\n",
            "\n",
            "Prime Numbers in the Array:\n",
            " [257, 349, 193, 487, 359, 467, 439, 911, 127, 239, 691, 7, 331, 127, 521, 881, 919, 331, 269, 463, 307, 661]\n"
          ]
        }
      ]
    },
    {
      "cell_type": "code",
      "source": [
        "#Q 10. Create a NumPy array representing daily temperatures for a month. Calculate and display the weekly\n",
        "#averages.\n"
      ],
      "metadata": {
        "id": "RTKhPI_JU7LS"
      },
      "execution_count": 49,
      "outputs": []
    },
    {
      "cell_type": "code",
      "source": [
        "import numpy as np\n",
        "daily_temperatures = np.random.uniform(0, 40, size=30)\n",
        "print(\"Daily Temperatures for the Month:\\n\", daily_temperatures)\n",
        "weekly_temperatures = daily_temperatures.reshape(5,6)\n",
        "weekly_averages = np.mean(weekly_temperatures, axis=1)\n",
        "print(\"\\nWeekly Averages:\\n\", weekly_averages)"
      ],
      "metadata": {
        "colab": {
          "base_uri": "https://localhost:8080/"
        },
        "id": "b9bUD0xDVNu_",
        "outputId": "264729e5-ad13-4d80-b9e8-c88bc5f95aba"
      },
      "execution_count": 55,
      "outputs": [
        {
          "output_type": "stream",
          "name": "stdout",
          "text": [
            "Daily Temperatures for the Month:\n",
            " [11.59186181  0.32012445 36.43061546 17.3935751  22.93166459  1.14095086\n",
            " 28.50861547  4.94334272 26.1883224  35.30064081 25.0876923   2.93957732\n",
            "  9.15011227 31.38246641 10.95968976 17.3441265  39.28656132 12.28900703\n",
            " 12.66883372 28.29304052 35.31416452 35.82291588 34.95354717 36.92818061\n",
            " 35.53991271 27.20256276 19.82644236 33.31306584 10.64393756 28.94176859]\n",
            "\n",
            "Weekly Averages:\n",
            " [14.96813205 20.49469851 20.06866055 30.66344707 25.91128164]\n"
          ]
        }
      ]
    },
    {
      "cell_type": "code",
      "source": [],
      "metadata": {
        "id": "IS_LtmJHVWjo"
      },
      "execution_count": null,
      "outputs": []
    }
  ],
  "metadata": {
    "colab": {
      "provenance": []
    },
    "kernelspec": {
      "display_name": "Python 3",
      "name": "python3"
    },
    "language_info": {
      "name": "python"
    }
  },
  "nbformat": 4,
  "nbformat_minor": 0
}